{
  "cells": [
    {
      "cell_type": "markdown",
      "metadata": {
        "id": "IMRse1InR9l0"
      },
      "source": [
        "# **CD2201-16: Ciencia de Datos en Astronomía**\n",
        "\n",
        "**Profesores:** Boris Cuevas, Paula Díaz, Danilo Sepúlveda, Francisco Urbina\n",
        "\n",
        "# **Tarea 2: Análisis Estadístico Simple**\n",
        "En esta tarea continuaremos practicando con *Numpy, Pandas y Matplotlib* mientras también aprenderán a realizar análisis estadísticos básicos con estas librerías.\n",
        "\n",
        "A estas alturas ya deben tener una noción de estadística y su aplicación en astronomía. La tarea consiste en hacer estimaciones sencillas a partir de datos astronómicos, usando herramientas básicas de Python que permiten trabajar con la estadística de distribuciones de datos.\n",
        "\n",
        "La tarea está dividida en dos partes. La primera consiste en realizar una estimación del movimiento propio de un cúmulo globular ubicado en el halo de nuestra Galaxia a partir de la distribución de estos datos. La segunda parte consiste en comprobar cómo cambia la Señal a Ruido (S/N) al promediar varios espectros de un objeto. No es necesario que tengan conocimientos previos de astronomía por ahora, basta con que sepan manipular los datos indicados.\n",
        "\n",
        "Esta tarea involucra la creación de varias figuras. Así que **póngase creativo con las figuras :D, sus colores, formas, leyendas, etc. También asegúrese de siempre colocar un título y nombre a los ejes!**"
      ]
    },
    {
      "cell_type": "code",
      "execution_count": 1,
      "metadata": {
        "id": "tlfuUWe3TmIp"
      },
      "outputs": [],
      "source": [
        "# Antes de comenzar con la tarea debe correr esta celda para importar las librerías principales a utilizar\n",
        "import numpy as np\n",
        "import pandas as pd\n",
        "import matplotlib.pyplot as plt"
      ]
    },
    {
      "cell_type": "markdown",
      "metadata": {
        "id": "MmDljzJPNoT8"
      },
      "source": [
        "# Primera parte: Estimar movimiento propio del cúmulo globular NGC 5694\n"
      ]
    },
    {
      "cell_type": "markdown",
      "metadata": {
        "id": "SOUcmgezROKf"
      },
      "source": [
        "En esta primera parte trataremos de estimar una cantidad en astronomía que se llama \"movimiento propio\" para un cúmulo globular llamado [NGC 5694](https://en.wikipedia.org/wiki/NGC_5694). Éste cúmulo globular se encuentra en el halo de nuestra Vía Láctea.\n",
        "\n",
        "El movimiento propio de una estrella es el desplazamiento que esta tiene en el cielo, visto desde la Tierra, con el paso del tiempo. Aunque las estrellas parecen fijas a simple vista, en realidad se están moviendo a través del espacio. El movimiento propio mide este cambio en la posición de la estrella, no hacia nosotros ni alejándose, sino moviéndose de forma lateral en el cielo. Las unidades de medida de esta cantidad son mas/yr (miliarcseconds per year), una cantidad muuuuuuy pequeña."
      ]
    },
    {
      "cell_type": "markdown",
      "metadata": {
        "id": "f4d2PHoYeMet"
      },
      "source": [
        "Para que dimensione lo pequeña que es esta cantidad, calcule cuántos años le tomaría a una estrella, que se desplaza exclusivamente en dirección horizontal en el cielo con un movimiento propio de 1mas/yr, cubrir una distancia de 0.5 grados en el cielo en la misma dirección (equivalente al tamaño aparente de la Luna en el cielo).\n",
        "\n",
        "Hint: 1 grado corresponde a $3.6$ x $10^6$ mas."
      ]
    },
    {
      "cell_type": "code",
      "execution_count": 3,
      "metadata": {
        "id": "ugPRYK9XdzJA",
        "outputId": "d16f31d9-6172-4850-c741-2eb3725c820c",
        "colab": {
          "base_uri": "https://localhost:8080/"
        }
      },
      "outputs": [
        {
          "output_type": "stream",
          "name": "stdout",
          "text": [
            "1800000.0\n"
          ]
        }
      ],
      "source": [
        "# Haga el cálculo aquí\n",
        "\n",
        "\n",
        "# 1 grado corresponde a 3,6 * 10 ** 6 mas\n",
        "\n",
        "x = 0.5 * 3.6 * 10 ** 6 # x: cuantos mas corresponden a 0.5 grados\n",
        "\n",
        "print(x)\n",
        "\n",
        "# Como la estrella va a 1 mas/yr, se tardara 1800000 años en trasladarse 0.5 grados"
      ]
    },
    {
      "cell_type": "markdown",
      "metadata": {
        "id": "yckQW6vpNwBD"
      },
      "source": [
        "### a) Cargar los Datos\n",
        "\n",
        "Primero debe montar el drive, lo que permite leer archivos guardados en el mismo. Para esto debe correr la celda de abajo."
      ]
    },
    {
      "cell_type": "code",
      "execution_count": 4,
      "metadata": {
        "id": "x3pfbt8mPy3d",
        "outputId": "72747b6b-9664-40ae-de04-bfe55e7fe7e1",
        "colab": {
          "base_uri": "https://localhost:8080/"
        }
      },
      "outputs": [
        {
          "output_type": "stream",
          "name": "stdout",
          "text": [
            "Mounted at /content/drive\n"
          ]
        }
      ],
      "source": [
        "from google.colab import drive\n",
        "drive.mount('/content/drive')"
      ]
    },
    {
      "cell_type": "markdown",
      "metadata": {
        "id": "LsycK59LyoOm"
      },
      "source": [
        "Importe el archivo **ngc5694_pm.csv** utilizando la función **pd.read_csv(path)** y guárdelo como **data**.\n",
        "\n",
        "En la barra de herramientas ubicada en la izquierda, puede encontrar la ruta (path) al archivo \"ngc5694_pm.csv\" dentro de su drive. Copie la ruta y cargue dicha base de datos en la siguiente celda como se le indica."
      ]
    },
    {
      "cell_type": "code",
      "execution_count": 7,
      "metadata": {
        "id": "dfz4NMyXQE9g"
      },
      "outputs": [],
      "source": [
        "path_archivo = '/content/drive/MyDrive/Modulos/ngc5694_pm.csv'\n",
        "\n",
        "data = pd.read_csv(path_archivo)"
      ]
    },
    {
      "cell_type": "markdown",
      "metadata": {
        "id": "iG__ZWN0uIpr"
      },
      "source": [
        "### b) Explorar el DataFrame\n",
        "Explore las columnas del archivo y muestre el DataFrame"
      ]
    },
    {
      "cell_type": "code",
      "execution_count": 13,
      "metadata": {
        "id": "z4UDi62JuTzQ",
        "outputId": "e5ff839a-8a37-4912-84ed-03b2631f935c",
        "colab": {
          "base_uri": "https://localhost:8080/"
        }
      },
      "outputs": [
        {
          "output_type": "stream",
          "name": "stdout",
          "text": [
            "Empty DataFrame\n",
            "Columns: [Unnamed: 0, ra, dec, pmra, pmdec]\n",
            "Index: []\n",
            "\n",
            " 0        0\n",
            "1        1\n",
            "2        2\n",
            "3        3\n",
            "4        4\n",
            "      ... \n",
            "616    616\n",
            "617    617\n",
            "618    618\n",
            "619    619\n",
            "620    620\n",
            "Name: Unnamed: 0, Length: 621, dtype: int64\n",
            "\n",
            " 0      219.370629\n",
            "1      219.373996\n",
            "2      219.363458\n",
            "3      219.336931\n",
            "4      219.463706\n",
            "          ...    \n",
            "616    220.732855\n",
            "617    220.710525\n",
            "618    219.327652\n",
            "619    219.225796\n",
            "620    219.162241\n",
            "Name: ra, Length: 621, dtype: float64\n",
            "\n",
            " 0     -27.312548\n",
            "1     -27.243801\n",
            "2     -27.213113\n",
            "3     -27.172985\n",
            "4     -27.189408\n",
            "         ...    \n",
            "616   -26.148055\n",
            "617   -26.150902\n",
            "618   -27.267281\n",
            "619   -27.172318\n",
            "620   -27.121378\n",
            "Name: dec, Length: 621, dtype: float64\n",
            "\n",
            " 0     -1.674613\n",
            "1     -0.283708\n",
            "2     -1.741153\n",
            "3     -0.564131\n",
            "4     -0.487856\n",
            "         ...   \n",
            "616   -0.891652\n",
            "617   -0.400258\n",
            "618   -0.266571\n",
            "619   -0.302597\n",
            "620   -1.300554\n",
            "Name: pmdec, Length: 621, dtype: float64\n"
          ]
        }
      ],
      "source": [
        "# Muestra las columnas aquí\n",
        "\n",
        "# Vemos los nombres de las columnas\n",
        "\n",
        "print(data.head(0))\n",
        "\n",
        "# Ahora revisamos cada columna por separado\n",
        "\n",
        "# Columna \"Unnamed: 0\"\n",
        "\n",
        "print(\"\\n\",data[\"Unnamed: 0\"])\n",
        "\n",
        "# Columna \"ra\"\n",
        "\n",
        "print(\"\\n\", data[\"ra\"])\n",
        "\n",
        "# Coumna \"dec\"\n",
        "\n",
        "print(\"\\n\", data[\"dec\"])\n",
        "\n",
        "# Columna \"pmra\"\n",
        "\n",
        "print(\"\\n\", data[\"pmdec\"])"
      ]
    },
    {
      "cell_type": "code",
      "execution_count": 14,
      "metadata": {
        "id": "IR0mpS32uYlh",
        "outputId": "706f0724-1d07-4048-f7ca-8ed5e3da18dc",
        "colab": {
          "base_uri": "https://localhost:8080/"
        }
      },
      "outputs": [
        {
          "output_type": "stream",
          "name": "stdout",
          "text": [
            "     Unnamed: 0          ra        dec      pmra     pmdec\n",
            "0             0  219.370629 -27.312548  0.053134 -1.674613\n",
            "1             1  219.373996 -27.243801 -0.960711 -0.283708\n",
            "2             2  219.363458 -27.213113  0.674957 -1.741153\n",
            "3             3  219.336931 -27.172985 -0.057975 -0.564131\n",
            "4             4  219.463706 -27.189408 -0.438914 -0.487856\n",
            "..          ...         ...        ...       ...       ...\n",
            "616         616  220.732855 -26.148055 -0.269935 -0.891652\n",
            "617         617  220.710525 -26.150902 -0.962554 -0.400258\n",
            "618         618  219.327652 -27.267281 -0.796753 -0.266571\n",
            "619         619  219.225796 -27.172318 -0.901963 -0.302597\n",
            "620         620  219.162241 -27.121378  0.059221 -1.300554\n",
            "\n",
            "[621 rows x 5 columns]\n"
          ]
        }
      ],
      "source": [
        "# Muestra el DataFrame aquí\n",
        "\n",
        "print(data)"
      ]
    },
    {
      "cell_type": "markdown",
      "metadata": {
        "id": "q_CLEl5CzgPM"
      },
      "source": [
        "### c) Graficar un scatter plot\n",
        "Cada fila del DataFrame corresponde a una estrella del cielo y, como habra notado, hay dos columnas denominadas **pmra** y **pmdec**. Estas representan el movimiento propio en ascensión recta y el movimiento propio en declinación, respectivamente, que son los desplazamientos de una estrella en dos ejes distintos del cielo: RA y DEC.\n",
        "\n",
        "Selecciona del DataFrame los datos de las columnas **pmra** y **pmdec** y guárdalos en las variables indicadas. Luego, realiza un gráfico de dispersión (scatter plot) colocando en el eje x los datos de \"pmra\" y en el eje y los de \"pmdec\"."
      ]
    },
    {
      "cell_type": "code",
      "execution_count": 40,
      "metadata": {
        "collapsed": true,
        "id": "ljT-OoR0madd",
        "jupyter": {
          "outputs_hidden": true
        }
      },
      "outputs": [],
      "source": [
        "pmra = data[\"pmra\"]\n",
        "pmdec = data[\"pmdec\"]"
      ]
    },
    {
      "cell_type": "code",
      "execution_count": 41,
      "metadata": {
        "id": "4gkoGTBgmt1L",
        "collapsed": true,
        "outputId": "2f9dc67a-4baa-4927-cad2-a144c37ab659",
        "colab": {
          "base_uri": "https://localhost:8080/",
          "height": 865
        }
      },
      "outputs": [
        {
          "output_type": "execute_result",
          "data": {
            "text/plain": [
              "Text(0.5, 1.0, 'Desplazamiento de las Estrellas')"
            ]
          },
          "metadata": {},
          "execution_count": 41
        },
        {
          "output_type": "display_data",
          "data": {
            "text/plain": [
              "<Figure size 1000x1000 with 1 Axes>"
            ],
            "image/png": "[encoded data removed]"
          },
          "metadata": {}
        }
      ],
      "source": [
        "# Haga el gráfico en esta celda\n",
        "\n",
        "plt.figure(figsize=(10,10))\n",
        "plt.plot(pmra,pmdec,marker='o', ls='',mec='#0D5378',markersize=3)\n",
        "plt.xlabel(\"Movimiento Propio en Ascensión Recta\", fontsize =15)\n",
        "plt.ylabel(\"Movimiento Propio en Declinación\", fontsize =15)\n",
        "plt.title('Desplazamiento de las Estrellas', fontsize = 18)"
      ]
    },
    {
      "cell_type": "markdown",
      "metadata": {
        "id": "8GmiOdWRmxs8"
      },
      "source": [
        "Si observa bien, parece que los puntos se concentran hacia la parte izquierda del gráfico. Ese grupo representa los movimientos propios de las estrellas que pertencen al cúmulo globular. Los demás puntos corresponden a los movimientos propios de estrellas de la galaxia que se \"colaron\" en la línea de visión entre nosotros (Tierra) y el cúmulo."
      ]
    },
    {
      "cell_type": "markdown",
      "metadata": {
        "id": "06TGBeMC_6By"
      },
      "source": [
        "### c) Generar distribución Gaussiana\n",
        "Calcule el promedio y la desviación estándar de ambas columnas (**pmra** y **pmdec**) y guárdelos en las variables que se indican."
      ]
    },
    {
      "cell_type": "code",
      "execution_count": 42,
      "metadata": {
        "id": "yQr1b2gToCfa"
      },
      "outputs": [],
      "source": [
        "mu_pmra = pmra.mean()\n",
        "std_pmra = pmra.std()\n",
        "\n",
        "mu_pmdec = pmdec.mean()\n",
        "std_pmdec = pmdec.std()"
      ]
    },
    {
      "cell_type": "markdown",
      "metadata": {
        "id": "EDQZsqWSo4BI"
      },
      "source": [
        "Con los promedios y desviaciones estandar obtenidas, simule una distribución gaussiana para cada eje del movimieto propio (pmra y pmdec). Recuerda que la distribución gaussiana es de la forma:\n",
        "\n",
        "$$f(x) = \\frac{1}{\\sqrt{2\\pi\\sigma^2}}e^{-\\frac{(x-\\mu)^2}{2\\sigma^2}}$$\n",
        "\n",
        "\n",
        "Por lo que necesitamos los valores de $x, \\mu$ y $\\sigma$ para cada caso.\n",
        "\n",
        "**En ascención recta**:\n",
        "1. Crea un arreglo de 300 números que estén entre -1.5 y 1. Este sería el $x$\n",
        "2. Con $\\mu$ y $\\sigma$ correspondientes a pmra calculados en la celda de arriba, genere los valores $f(x)$. Para eso, utilize la función **norm** de **scipy.stats** que está importada en la siguiente celda. Usa el método **pdf** (probability density function)\n",
        "\n",
        "\n",
        "\n",
        "**En declinación:**\n",
        "Haga lo mismo, pero el $x$ sería 300 números que estén entre -2.5 y 0.5."
      ]
    },
    {
      "cell_type": "code",
      "execution_count": 78,
      "metadata": {
        "id": "gR7uz9K0o4Pj"
      },
      "outputs": [],
      "source": [
        "from scipy.stats import norm\n",
        "\n",
        "x_pmra = np.linspace(-1.5, 1, 300)\n",
        "fx_pmra = norm(loc=mu_pmra, scale= std_pmra)\n",
        "\n",
        "x_pmdec = np.linspace(-2.5, 0.5, 300)\n",
        "fx_pmdec = norm(loc=mu_pmdec, scale= std_pmdec)"
      ]
    },
    {
      "cell_type": "markdown",
      "metadata": {
        "id": "PRr7uiMTALrW"
      },
      "source": [
        "### d) Graficar histogramas de la distribución de movimientos propios junto a la distribución Gaussiana\n",
        "\n",
        "Grafique con matplotlib un hitograma (busque qué método de matplotlib sirve) de pmra y sobre él grafique la gaussiana correspondiente."
      ]
    },
    {
      "cell_type": "code",
      "execution_count": 91,
      "metadata": {
        "id": "rseJSP8r1yfh",
        "outputId": "9c34b51f-740d-47c8-b9cd-a78ef678ee55",
        "colab": {
          "base_uri": "https://localhost:8080/",
          "height": 448
        }
      },
      "outputs": [
        {
          "output_type": "execute_result",
          "data": {
            "text/plain": [
              "[<matplotlib.lines.Line2D at 0x799c28455270>]"
            ]
          },
          "metadata": {},
          "execution_count": 91
        },
        {
          "output_type": "display_data",
          "data": {
            "text/plain": [
              "<Figure size 640x480 with 1 Axes>"
            ],
            "image/png": "[encoded data removed]"
          },
          "metadata": {}
        }
      ],
      "source": [
        "plt.hist(pmra, bins =50, label = 'Histograma', alpha=0.9)\n",
        "plt.plot(x_pmra,fx_pmra.pdf(x_pmra))"
      ]
    },
    {
      "cell_type": "markdown",
      "metadata": {
        "id": "hUFWG5eS10dE"
      },
      "source": [
        "Notará que la gaussiana apenas se ve en el gráfico, esto es porque la gaussiana está normalizada (el área bajo la curva es 1), pero esto no es así para el histograma. El problema se puede arreglar incluyendo el parámetro **density=True** en el método que grafica el histograma.\n",
        "\n",
        "Repita la gráfica anterior pero ahora tanto para pmra como para pmdec e incorporando la modificación de **density=True**. Muestre los gráficos en una misma figura como subplots."
      ]
    },
    {
      "cell_type": "code",
      "execution_count": 98,
      "metadata": {
        "id": "zVQmIYkC5Iwl",
        "outputId": "65cade49-d7e0-4168-edfd-18ef5f39b597",
        "colab": {
          "base_uri": "https://localhost:8080/",
          "height": 333
        }
      },
      "outputs": [
        {
          "output_type": "execute_result",
          "data": {
            "text/plain": [
              "[<matplotlib.lines.Line2D at 0x799c27c7a7d0>]"
            ]
          },
          "metadata": {},
          "execution_count": 98
        },
        {
          "output_type": "display_data",
          "data": {
            "text/plain": [
              "<Figure size 1500x500 with 2 Axes>"
            ],
            "image/png": "[encoded data removed]"
          },
          "metadata": {}
        }
      ],
      "source": [
        "plt.figure(figsize=(15,5))\n",
        "plt.subplot(1,2,1)\n",
        "plt.hist(pmra, bins =50, density= True, label = 'Histograma', alpha=0.9)\n",
        "plt.plot(x_pmra,fx_pmra.pdf(x_pmra))\n",
        "\n",
        "plt.subplot(1,2,2)\n",
        "plt.hist(pmdec, bins =50, density= True, label = 'Histograma', alpha=0.9)\n",
        "plt.plot(x_pmdec,fx_pmdec.pdf(x_pmdec))"
      ]
    },
    {
      "cell_type": "markdown",
      "metadata": {
        "id": "9XPRCYBT5SKE"
      },
      "source": [
        "Repita la figura anterior y ahora agréguele a cada gráfica (pmra y pmdec) una franja vertical que abarque $\\mu \\pm \\sigma$ utilizando **plt.axvspan()**"
      ]
    },
    {
      "cell_type": "code",
      "execution_count": null,
      "metadata": {
        "id": "LrTcPtZG5_4z"
      },
      "outputs": [],
      "source": []
    },
    {
      "cell_type": "markdown",
      "metadata": {
        "id": "TeKH3rnms03h"
      },
      "source": [
        "Según las gaussiaas obtenidas, ¿Cuál es la estimación para pmra y pmdec del cúmulo globular?\n",
        "\n",
        "**Respuesta:**"
      ]
    },
    {
      "cell_type": "markdown",
      "metadata": {
        "id": "_ad3fEpu_fzn"
      },
      "source": [
        "# Segunda parte: Señal a Ruido\n",
        "Para la siguiente parte deberá trabajar con datos de espectros con líneas de emisión. Un espéctro lo puede entender como un gráfico de potencia vs longitud de onda.\n",
        "\n",
        "Abra el archivo **data_spectra.csv** con pandas y muestre el DataFrame. (No es necesario montar de nuevo el drive porque ya se hizo en la parte anterior).\n",
        "\n",
        "Las columnas **obs** corresponden a observaciones (espectro) de un objeto, en la que cada valor corresponde a la potencia asociada a una longitud de onda. La columna **Wlth** corresponde a las longitudes de onda."
      ]
    },
    {
      "cell_type": "code",
      "execution_count": null,
      "metadata": {
        "id": "oeslf5cZUU19"
      },
      "outputs": [],
      "source": [
        "# Lea y muestre el DataFrame aquí\n",
        "data =\n"
      ]
    },
    {
      "cell_type": "markdown",
      "metadata": {
        "id": "hq24-d-hUEKK"
      },
      "source": [
        "### a) Gráfico de primer espectro:\n",
        "Grafique el espectro de la primera observación (columna **obs_1** vs columna **Wlth**) y responda: ¿Cuántas líneas de emisión detecta a simple vista?\n",
        "\n",
        "**Respuesta:**"
      ]
    },
    {
      "cell_type": "code",
      "execution_count": null,
      "metadata": {
        "id": "ASKjJCIgVRm5"
      },
      "outputs": [],
      "source": [
        "# Grafique aquí\n"
      ]
    },
    {
      "cell_type": "markdown",
      "metadata": {
        "id": "lw7a4L36VLSx"
      },
      "source": [
        "Notará que los valores del eje y están centrados alrededor de 1. Centre la observación en 0. Para esto, estime el valor medio del ruido y réstelo a todo el espectro ¿Cómo piensa que podria hacer esto?. Grafique el espectro resultante.\n",
        "\n",
        "**Respuesta:**"
      ]
    },
    {
      "cell_type": "code",
      "execution_count": null,
      "metadata": {
        "id": "0wp3qEGDV2Ro"
      },
      "outputs": [],
      "source": [
        "# Grafique el espectro centrado en 0 aquí\n"
      ]
    },
    {
      "cell_type": "markdown",
      "metadata": {
        "id": "-wctIMluXMSn"
      },
      "source": [
        "### b) Nivel de ruido:\n",
        "\n",
        "En esta parte estimaremos el nivel de ruido de la la observación 1 de una forma distinta. Para esto siga los sigueintes pasos:"
      ]
    },
    {
      "cell_type": "markdown",
      "metadata": {
        "id": "0Grj907EXPpB"
      },
      "source": [
        "1. Tome la columna **obs_1** y guarde en la variable **ruido** un subconjunto de datos centrados en la media de **obs_1** con un margen de $\\pm 3 \\sigma$, con $\\sigma$ la desviación estándar de **obs_1**.\n",
        "\n",
        "Note que este subconjunto corresponde a ruido principalmente."
      ]
    },
    {
      "cell_type": "code",
      "execution_count": null,
      "metadata": {
        "id": "njBzind3Xemx"
      },
      "outputs": [],
      "source": [
        "ruido ="
      ]
    },
    {
      "cell_type": "markdown",
      "metadata": {
        "id": "Hf5enNp6XfiJ"
      },
      "source": [
        "2. Reste la media del ruido al espectro para centrar y grafique el espectro resultante."
      ]
    },
    {
      "cell_type": "code",
      "execution_count": null,
      "metadata": {
        "id": "xnjenF_OXkCR"
      },
      "outputs": [],
      "source": [
        "# Grafique el espectro centrado en 0 aquí\n"
      ]
    },
    {
      "cell_type": "markdown",
      "metadata": {
        "id": "Mv4guDgcXkXy"
      },
      "source": [
        "3. Calcule $\\sigma$ del ruido y grafique un margen de $\\pm n*\\sigma$ (con $n$ entero) sobre el espectro como dos líneas horizontales. ¿Qué valor de $n$ le parece adecuado y por qué? este será el nivel de ruido.\n",
        "\n",
        "**Respuesta:**"
      ]
    },
    {
      "cell_type": "code",
      "execution_count": null,
      "metadata": {
        "id": "Sm3sOgOxX3EX"
      },
      "outputs": [],
      "source": []
    },
    {
      "cell_type": "markdown",
      "metadata": {
        "id": "d7y0fEa5bIa6"
      },
      "source": [
        "### c) Disminución de $\\sigma$\n",
        "\n",
        "Ahora verá cómo el nivel de ruido disminuye al promediar observaciones. Siga los siguientes pasos:\n",
        "\n",
        "1. Centre todas las observaciones en 0 de la misma manera hecha en ela parte b). Como consejo, puede recorrer las columnas del DataFrame con un for y modificar solo las que correspondan a una observación."
      ]
    },
    {
      "cell_type": "code",
      "execution_count": null,
      "metadata": {
        "id": "uyvsnX2-beug"
      },
      "outputs": [],
      "source": []
    },
    {
      "cell_type": "markdown",
      "metadata": {
        "id": "0C5ZCBMvbfWo"
      },
      "source": [
        "2. A continuación verá cómo cambia sigma a medida que promediamos los espectros. Para esto realice el siguiente algoritmo:\n",
        "\n",
        " - Calcule $\\sigma$ de **obs_1**.\n",
        " - Promedie **obs_1** y **obs_2**, y calcule $\\sigma$.\n",
        " - Promedie **obs_1**, **obs_2** y **obs_3**, y calcule $\\sigma$.\n",
        " - Siga hasta haber promediado todas las observaciones (recuerde guardar los valores de $\\sigma$)\n",
        "\n",
        " Añada al DataFrame una nueva columna **obs_all** que corresponda al promedio de todos los espectros."
      ]
    },
    {
      "cell_type": "code",
      "execution_count": null,
      "metadata": {
        "id": "e8gNHUT1brEv"
      },
      "outputs": [],
      "source": []
    },
    {
      "cell_type": "markdown",
      "metadata": {
        "id": "VnU_U3BobvJs"
      },
      "source": [
        " 3. Finalmente grafique los valores de $\\sigma$ en funcion de $N$, con $N$ el numero de observaciones promediada. ¿Qué ocurre con $\\sigma$? ¿Es esperado el resultado? Comente.\n",
        "\n",
        "**Respuesta:**"
      ]
    },
    {
      "cell_type": "code",
      "execution_count": null,
      "metadata": {
        "id": "Kndqs-L_bxuY"
      },
      "outputs": [],
      "source": []
    },
    {
      "cell_type": "markdown",
      "metadata": {
        "id": "buhUwcZaGujJ"
      },
      "source": [
        "### d) Promedio de observaciones\n",
        "\n",
        "Finalmente grafique el promedio de todas las observaciones (columna **obs_all** vs columna **Wlth**). ¿Cuántas líneas de emisión puede apreciar ahora? ¿Podría explicar a qué se debe? Comente.\n",
        "\n",
        "**Respuesta:**"
      ]
    },
    {
      "cell_type": "code",
      "execution_count": null,
      "metadata": {
        "id": "yKyC9j53dT5U"
      },
      "outputs": [],
      "source": []
    }
  ],
  "metadata": {
    "colab": {
      "provenance": []
    },
    "kernelspec": {
      "display_name": "Python 3 (ipykernel)",
      "language": "python",
      "name": "python3"
    },
    "language_info": {
      "codemirror_mode": {
        "name": "ipython",
        "version": 3
      },
      "file_extension": ".py",
      "mimetype": "text/x-python",
      "name": "python",
      "nbconvert_exporter": "python",
      "pygments_lexer": "ipython3",
      "version": "3.10.12"
    }
  },
  "nbformat": 4,
  "nbformat_minor": 0
}